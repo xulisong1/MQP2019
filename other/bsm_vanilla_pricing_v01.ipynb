{
 "cells": [
  {
   "cell_type": "markdown",
   "metadata": {
    "colab_type": "text",
    "id": "view-in-github"
   },
   "source": [
    "<a href=\"https://colab.research.google.com/github/songqsh/MQP2019/blob/master/other/bsm_vanilla_pricing_v01.ipynb\" target=\"_parent\"><img src=\"https://colab.research.google.com/assets/colab-badge.svg\" alt=\"Open In Colab\"/></a>"
   ]
  },
  {
   "cell_type": "markdown",
   "metadata": {
    "colab_type": "text",
    "id": "89t4J6Dmd-Eo"
   },
   "source": [
    "# BSM formula\n",
    "\n",
    "## Abstract\n",
    "\n",
    "- create GBM class\n",
    "- define a method for BSM formula for a given option type"
   ]
  },
  {
   "cell_type": "markdown",
   "metadata": {
    "colab_type": "text",
    "id": "y5hyO8FseuLn"
   },
   "source": [
    "## Analysis\n",
    "\n",
    "BS model assumes the distribution of stock as lognormal. In particular, it writes \n",
    "$$\\ln \\frac{S(T)}{S(0)} \\sim \\mathcal N((r  - \\frac 1 2 \\sigma^2) T, \\sigma^2 T)$$\n",
    "with respect to risk neutral measure. In the above, the parameters stand for\n",
    "\n",
    "* $S(0)$: The initial stock price\n",
    "* $S(T)$: The stock price at $T$\n",
    "* $r$: interest rate\n",
    "* $\\sigma$: volatility\n",
    "\n"
   ]
  },
  {
   "cell_type": "markdown",
   "metadata": {
    "colab_type": "text",
    "id": "4BEWnmSve9oM"
   },
   "source": [
    "\n",
    "The call and put price with maturity $T$ and $K$ will be known as $C_0$ and $P_0$ given as below:\n",
    "$$C_0 = \\mathbb E [e^{-rT} (S(T) - K)^+] = S_0  \\Phi(d_1) - K e^{-rT} \\Phi(d_2),$$\n",
    "and \n",
    "$$P_0 = \\mathbb E [e^{-rT} (S(T) - K)^-] = K e^{-rT} \\Phi(- d_2) - S_0  \\Phi(- d_1),$$\n",
    "where $d_i$ are given as\n",
    "$$d_1 = ??,$$\n",
    "and\n",
    "$$d_2 = ??$$\n",
    "\n",
    "Put-call parity will be useful:\n",
    "    $$C_0 - P_0 =  S(0) - e^{-rT} K.$$"
   ]
  },
  {
   "cell_type": "markdown",
   "metadata": {
    "colab_type": "text",
    "id": "mewOxcQJfFnT"
   },
   "source": [
    "## Code"
   ]
  },
  {
   "cell_type": "code",
   "execution_count": 1,
   "metadata": {
    "colab": {},
    "colab_type": "code",
    "id": "RXd_brmsfEs9"
   },
   "outputs": [],
   "source": [
    "import numpy as np\n",
    "import scipy.stats as ss"
   ]
  },
  {
   "cell_type": "markdown",
   "metadata": {
    "colab_type": "text",
    "id": "M40EwMCkfS21"
   },
   "source": [
    "We reload the european option class created before."
   ]
  },
  {
   "cell_type": "code",
   "execution_count": 2,
   "metadata": {
    "colab": {},
    "colab_type": "code",
    "id": "czvpqtvId_3D"
   },
   "outputs": [],
   "source": [
    "'''=========\n",
    "option class init\n",
    "=========='''\n",
    "class VanillaOption:\n",
    "    def __init__(\n",
    "        self,\n",
    "        otype = 1, # 1: 'call'\n",
    "                  # -1: 'put'\n",
    "        strike = 110.,\n",
    "        maturity = 1.,\n",
    "        market_price = 10.):\n",
    "      self.otype = otype\n",
    "      self.strike = strike\n",
    "      self.maturity = maturity\n",
    "      self.market_price = market_price #this will be used for calibration\n",
    "      \n",
    "        \n",
    "    def payoff(self, s): #s: excercise price\n",
    "      otype = self.otype\n",
    "      k = self.strike\n",
    "      maturity = self.maturity\n",
    "      return np.max([0, (s - k)*otype])"
   ]
  },
  {
   "cell_type": "markdown",
   "metadata": {
    "colab_type": "text",
    "id": "rdPRhkW0fhkn"
   },
   "source": [
    "Next, we create the gbm class, which is \n",
    "determined by three parameters. We shall initialize it\n",
    "as it  is created."
   ]
  },
  {
   "cell_type": "code",
   "execution_count": 3,
   "metadata": {
    "colab": {},
    "colab_type": "code",
    "id": "CQbFAFX-fYuw"
   },
   "outputs": [],
   "source": [
    "'''============\n",
    "Gbm class inherited from sde_1d\n",
    "============='''\n",
    "\n",
    "class Gbm:\n",
    "    def __init__(self,\n",
    "                 init_state = 100.,\n",
    "                 drift_ratio = .0475,\n",
    "                 vol_ratio = .2\n",
    "                ):\n",
    "        self.init_state = init_state\n",
    "        self.drift_ratio = drift_ratio\n",
    "        self.vol_ratio = vol_ratio"
   ]
  },
  {
   "cell_type": "markdown",
   "metadata": {
    "colab_type": "text",
    "id": "6qcWtlDCgAO9"
   },
   "source": [
    "BSM formula is given by a method of Gbm class with an input of an option."
   ]
  },
  {
   "cell_type": "code",
   "execution_count": 4,
   "metadata": {
    "colab": {},
    "colab_type": "code",
    "id": "KTFuh0GIfpOW"
   },
   "outputs": [],
   "source": [
    "'''========\n",
    "Black-Scholes-Merton formula. \n",
    "=========='''\n",
    "\n",
    "def bsm_price(self, vanilla_option):\n",
    "    s0 = self.init_state\n",
    "    sigma = self.vol_ratio\n",
    "    r = self.drift_ratio\n",
    "    \n",
    "    otype = vanilla_option.otype\n",
    "    k = vanilla_option.strike\n",
    "    maturity = vanilla_option.maturity\n",
    "    \n",
    "    d1 = 0. #??\n",
    "    d2 = 0. #??\n",
    "    \n",
    "    return (otype * s0 * ss.norm.cdf(otype * d1) #line break needs parenthesis\n",
    "            - otype * np.exp(-r * maturity) * k * ss.norm.cdf(otype * d2))\n",
    "\n",
    "Gbm.bsm_price = bsm_price"
   ]
  },
  {
   "cell_type": "code",
   "execution_count": 5,
   "metadata": {
    "colab": {
     "base_uri": "https://localhost:8080/",
     "height": 51
    },
    "colab_type": "code",
    "id": "iDswnsxjf_h5",
    "outputId": "40d37db8-a36c-415b-98d6-7059ba77d99d"
   },
   "outputs": [
    {
     "name": "stdout",
     "output_type": "stream",
     "text": [
      ">>>>>>>>>>call value is -2.4485760222944535\n",
      ">>>>>>>>>>put value is 2.4485760222944535\n"
     ]
    }
   ],
   "source": [
    "'''===============\n",
    "Test bsm_price\n",
    "================='''\n",
    "gbm1 = Gbm()\n",
    "option1 = VanillaOption()\n",
    "print('>>>>>>>>>>call value is ' + str(gbm1.bsm_price(option1)))\n",
    "option2 = VanillaOption(otype=-1)\n",
    "print('>>>>>>>>>>put value is ' + str(gbm1.bsm_price(option2)))\n"
   ]
  },
  {
   "cell_type": "code",
   "execution_count": null,
   "metadata": {
    "colab": {},
    "colab_type": "code",
    "id": "BrvYN7v0gWK5"
   },
   "outputs": [],
   "source": []
  }
 ],
 "metadata": {
  "colab": {
   "include_colab_link": true,
   "name": "bsm_formula_v01.ipynb",
   "provenance": []
  },
  "kernelspec": {
   "display_name": "Python 3",
   "language": "python",
   "name": "python3"
  },
  "language_info": {
   "codemirror_mode": {
    "name": "ipython",
    "version": 3
   },
   "file_extension": ".py",
   "mimetype": "text/x-python",
   "name": "python",
   "nbconvert_exporter": "python",
   "pygments_lexer": "ipython3",
   "version": "3.7.4"
  }
 },
 "nbformat": 4,
 "nbformat_minor": 1
}
